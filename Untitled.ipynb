{
 "cells": [
  {
   "cell_type": "code",
   "execution_count": 4,
   "id": "c09d069b",
   "metadata": {},
   "outputs": [
    {
     "name": "stderr",
     "output_type": "stream",
     "text": [
      "100%|██████████| 144/144 [00:27<00:00,  5.26it/s]\n",
      "100%|██████████| 7183/7183 [26:14<00:00,  4.56it/s]  \n"
     ]
    }
   ],
   "source": [
    "from tqdm import tqdm\n",
    "from bs4 import BeautifulSoup\n",
    "import requests\n",
    "import csv\n",
    "\n",
    "def scrapePortPos(side_url):\n",
    "    html_text = requests.get(side_url, headers = {\"User-Agent\": \"Mozilla/5.0 (Windows NT 10.0; Win64; x64)\"}).text\n",
    "\n",
    "    #get content\n",
    "    soup = BeautifulSoup(html_text, 'lxml') \n",
    "        \n",
    "    table = soup.find_all('tbody')\n",
    "    table = str(table).split(\"\\n\")\n",
    "    data = [None] * 2\n",
    "    for j in range(1, len(table)):\n",
    "        if \"Longitude\" in table[j-1]:\n",
    "            data[0] = table[j]\n",
    "        elif \"Latitude\" in table[j-1]:\n",
    "            data[1] = table[j]\n",
    "    for j in range(2):\n",
    "        data[j] = data[j].replace(\"<td>\", \"\").replace(\"</td>\", \"\").replace(\"°\", \"\")\n",
    "    \n",
    "    return data\n",
    "\n",
    "def scrapePortPage(side_url):\n",
    "    links = []\n",
    "    \n",
    "    html_text = requests.get(side_url, headers = {\"User-Agent\": \"Mozilla/5.0 (Windows NT 10.0; Win64; x64)\"}).text\n",
    "\n",
    "    #get content\n",
    "    soup = BeautifulSoup(html_text, 'lxml')\n",
    "        \n",
    "    table = soup.find_all('span', class_ = '')\n",
    "    for tab in table:\n",
    "        ports = tab.find_all('a')\n",
    "        for port in ports:\n",
    "            links.append(port['href'])\n",
    "            \n",
    "    return links \n",
    "\n",
    "links = []\n",
    "for page in tqdm(range(1,145)):\n",
    "    side_url = 'https://www.myshiptracking.com/ports?sort=ID&page=' + str(page)\n",
    "    links += scrapePortPage(side_url)\n",
    "    \n",
    "for sub_url in tqdm(links):\n",
    "        side_url = 'https://www.myshiptracking.com' + sub_url\n",
    "        scrapePortPos(side_url)\n",
    "\n",
    "#open csv and write\n",
    "with open('ports', 'w') as portTable:\n",
    "    writer = csv.writer(portTable)\n",
    "    for sub_url in tqdm(links):\n",
    "        side_url = 'https://www.myshiptracking.com' + sub_url\n",
    "        writer.writerow(scrapePortPos(side_url))"
   ]
  }
 ],
 "metadata": {
  "kernelspec": {
   "display_name": "Python 3.8.10 64-bit",
   "language": "python",
   "name": "python3"
  },
  "language_info": {
   "codemirror_mode": {
    "name": "ipython",
    "version": 3
   },
   "file_extension": ".py",
   "mimetype": "text/x-python",
   "name": "python",
   "nbconvert_exporter": "python",
   "pygments_lexer": "ipython3",
   "version": "3.8.10"
  },
  "vscode": {
   "interpreter": {
    "hash": "767d51c1340bd893661ea55ea3124f6de3c7a262a8b4abca0554b478b1e2ff90"
   }
  }
 },
 "nbformat": 4,
 "nbformat_minor": 5
}
